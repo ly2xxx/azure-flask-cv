{
 "cells": [
  {
   "cell_type": "code",
   "execution_count": 6,
   "metadata": {},
   "outputs": [
    {
     "name": "stdout",
     "output_type": "stream",
     "text": [
      "Defaulting to user installation because normal site-packages is not writeableNote: you may need to restart the kernel to use updated packages.\n",
      "\n",
      "Collecting PyMuPDF\n",
      "  Obtaining dependency information for PyMuPDF from https://files.pythonhosted.org/packages/2b/14/b3d950d252e64997a28bc2452d1fa19161888c80ee49cacee9bb06a9ec05/PyMuPDF-1.23.6-cp311-none-win_amd64.whl.metadata\n",
      "  Downloading PyMuPDF-1.23.6-cp311-none-win_amd64.whl.metadata (3.4 kB)\n",
      "Collecting PyMuPDFb==1.23.6 (from PyMuPDF)\n",
      "  Obtaining dependency information for PyMuPDFb==1.23.6 from https://files.pythonhosted.org/packages/f4/f6/487aba0931328119d8674637dc52b72d2f3b75ab373abd223436bb4bf605/PyMuPDFb-1.23.6-py3-none-win_amd64.whl.metadata\n",
      "  Downloading PyMuPDFb-1.23.6-py3-none-win_amd64.whl.metadata (1.3 kB)\n",
      "Downloading PyMuPDF-1.23.6-cp311-none-win_amd64.whl (3.5 MB)\n",
      "   ---------------------------------------- 0.0/3.5 MB ? eta -:--:--\n",
      "   ---------------------------------------- 0.0/3.5 MB ? eta -:--:--\n",
      "   ---------------------------------------- 0.0/3.5 MB 435.7 kB/s eta 0:00:08\n",
      "    --------------------------------------- 0.1/3.5 MB 653.6 kB/s eta 0:00:06\n",
      "   ---- ----------------------------------- 0.4/3.5 MB 2.9 MB/s eta 0:00:02\n",
      "   ------ --------------------------------- 0.6/3.5 MB 3.8 MB/s eta 0:00:01\n",
      "   -------- ------------------------------- 0.7/3.5 MB 3.0 MB/s eta 0:00:01\n",
      "   ----------- ---------------------------- 1.0/3.5 MB 3.6 MB/s eta 0:00:01\n",
      "   ---------------- ----------------------- 1.4/3.5 MB 4.2 MB/s eta 0:00:01\n",
      "   ---------------------- ----------------- 1.9/3.5 MB 5.1 MB/s eta 0:00:01\n",
      "   ---------------------------- ----------- 2.5/3.5 MB 5.8 MB/s eta 0:00:01\n",
      "   ---------------------------------- ----- 3.0/3.5 MB 6.4 MB/s eta 0:00:01\n",
      "   ---------------------------------------  3.5/3.5 MB 6.7 MB/s eta 0:00:01\n",
      "   ---------------------------------------  3.5/3.5 MB 6.7 MB/s eta 0:00:01\n",
      "   ---------------------------------------- 3.5/3.5 MB 6.0 MB/s eta 0:00:00\n",
      "Downloading PyMuPDFb-1.23.6-py3-none-win_amd64.whl (24.5 MB)\n",
      "   ---------------------------------------- 0.0/24.5 MB ? eta -:--:--\n",
      "    --------------------------------------- 0.5/24.5 MB 15.9 MB/s eta 0:00:02\n",
      "   - -------------------------------------- 1.0/24.5 MB 13.3 MB/s eta 0:00:02\n",
      "   -- ------------------------------------- 1.6/24.5 MB 12.6 MB/s eta 0:00:02\n",
      "   --- ------------------------------------ 2.1/24.5 MB 12.4 MB/s eta 0:00:02\n",
      "   ---- ----------------------------------- 2.6/24.5 MB 11.7 MB/s eta 0:00:02\n",
      "   ---- ----------------------------------- 3.0/24.5 MB 11.3 MB/s eta 0:00:02\n",
      "   ----- ---------------------------------- 3.6/24.5 MB 11.4 MB/s eta 0:00:02\n",
      "   ------ --------------------------------- 4.1/24.5 MB 11.3 MB/s eta 0:00:02\n",
      "   ------- -------------------------------- 4.6/24.5 MB 11.4 MB/s eta 0:00:02\n",
      "   -------- ------------------------------- 5.2/24.5 MB 11.5 MB/s eta 0:00:02\n",
      "   --------- ------------------------------ 5.8/24.5 MB 11.5 MB/s eta 0:00:02\n",
      "   ---------- ----------------------------- 6.3/24.5 MB 11.5 MB/s eta 0:00:02\n",
      "   ----------- ---------------------------- 6.9/24.5 MB 11.6 MB/s eta 0:00:02\n",
      "   ------------ --------------------------- 7.4/24.5 MB 11.5 MB/s eta 0:00:02\n",
      "   ------------- -------------------------- 8.0/24.5 MB 11.6 MB/s eta 0:00:02\n",
      "   ------------- -------------------------- 8.5/24.5 MB 11.6 MB/s eta 0:00:02\n",
      "   -------------- ------------------------- 9.1/24.5 MB 11.6 MB/s eta 0:00:02\n",
      "   --------------- ------------------------ 9.6/24.5 MB 11.6 MB/s eta 0:00:02\n",
      "   ---------------- ----------------------- 10.2/24.5 MB 11.6 MB/s eta 0:00:02\n",
      "   ----------------- ---------------------- 10.7/24.5 MB 11.5 MB/s eta 0:00:02\n",
      "   ------------------ --------------------- 11.3/24.5 MB 11.5 MB/s eta 0:00:02\n",
      "   ------------------- -------------------- 11.8/24.5 MB 11.5 MB/s eta 0:00:02\n",
      "   -------------------- ------------------- 12.4/24.5 MB 11.7 MB/s eta 0:00:02\n",
      "   --------------------- ------------------ 12.9/24.5 MB 11.7 MB/s eta 0:00:01\n",
      "   ---------------------- ----------------- 13.5/24.5 MB 11.7 MB/s eta 0:00:01\n",
      "   ---------------------- ----------------- 14.0/24.5 MB 11.7 MB/s eta 0:00:01\n",
      "   ----------------------- ---------------- 14.4/24.5 MB 11.7 MB/s eta 0:00:01\n",
      "   ------------------------ --------------- 15.0/24.5 MB 11.5 MB/s eta 0:00:01\n",
      "   ------------------------- -------------- 15.5/24.5 MB 11.5 MB/s eta 0:00:01\n",
      "   -------------------------- ------------- 16.0/24.5 MB 11.5 MB/s eta 0:00:01\n",
      "   --------------------------- ------------ 16.6/24.5 MB 11.5 MB/s eta 0:00:01\n",
      "   ---------------------------- ----------- 17.1/24.5 MB 11.5 MB/s eta 0:00:01\n",
      "   ---------------------------- ----------- 17.7/24.5 MB 11.5 MB/s eta 0:00:01\n",
      "   ----------------------------- ---------- 18.3/24.5 MB 11.7 MB/s eta 0:00:01\n",
      "   ------------------------------ --------- 18.8/24.5 MB 11.5 MB/s eta 0:00:01\n",
      "   ------------------------------- -------- 19.4/24.5 MB 11.5 MB/s eta 0:00:01\n",
      "   -------------------------------- ------- 20.0/24.5 MB 11.7 MB/s eta 0:00:01\n",
      "   --------------------------------- ------ 20.5/24.5 MB 11.7 MB/s eta 0:00:01\n",
      "   ---------------------------------- ----- 21.1/24.5 MB 11.7 MB/s eta 0:00:01\n",
      "   ----------------------------------- ---- 21.6/24.5 MB 11.5 MB/s eta 0:00:01\n",
      "   ------------------------------------ --- 22.1/24.5 MB 11.5 MB/s eta 0:00:01\n",
      "   ------------------------------------ --- 22.6/24.5 MB 11.5 MB/s eta 0:00:01\n",
      "   ------------------------------------- -- 23.2/24.5 MB 11.5 MB/s eta 0:00:01\n",
      "   -------------------------------------- - 23.7/24.5 MB 11.5 MB/s eta 0:00:01\n",
      "   ---------------------------------------  24.3/24.5 MB 11.5 MB/s eta 0:00:01\n",
      "   ---------------------------------------  24.5/24.5 MB 11.7 MB/s eta 0:00:01\n",
      "   ---------------------------------------  24.5/24.5 MB 11.7 MB/s eta 0:00:01\n",
      "   ---------------------------------------  24.5/24.5 MB 11.7 MB/s eta 0:00:01\n",
      "   ---------------------------------------  24.5/24.5 MB 11.7 MB/s eta 0:00:01\n",
      "   ---------------------------------------- 24.5/24.5 MB 9.6 MB/s eta 0:00:00\n",
      "Installing collected packages: PyMuPDFb, PyMuPDF\n",
      "Successfully installed PyMuPDF-1.23.6 PyMuPDFb-1.23.6\n"
     ]
    }
   ],
   "source": [
    "pip install PyMuPDF"
   ]
  },
  {
   "cell_type": "code",
   "execution_count": 19,
   "metadata": {},
   "outputs": [
    {
     "name": "stdout",
     "output_type": "stream",
     "text": [
      "Defaulting to user installation because normal site-packages is not writeable\n",
      "Collecting sentence-transformers\n",
      "  Downloading sentence-transformers-2.2.2.tar.gz (85 kB)\n",
      "     ---------------------------------------- 0.0/86.0 kB ? eta -:--:--\n",
      "     ---- ----------------------------------- 10.2/86.0 kB ? eta -:--:--\n",
      "     ---- ----------------------------------- 10.2/86.0 kB ? eta -:--:--\n",
      "     --------------------------- ---------- 61.4/86.0 kB 544.7 kB/s eta 0:00:01\n",
      "     -------------------------------------- 86.0/86.0 kB 605.7 kB/s eta 0:00:00\n",
      "  Preparing metadata (setup.py): started\n",
      "  Preparing metadata (setup.py): finished with status 'done'\n",
      "Requirement already satisfied: transformers<5.0.0,>=4.6.0 in c:\\soft\\anaconda3\\lib\\site-packages (from sentence-transformers) (4.32.1)\n",
      "Requirement already satisfied: tqdm in c:\\soft\\anaconda3\\lib\\site-packages (from sentence-transformers) (4.65.0)\n",
      "Requirement already satisfied: torch>=1.6.0 in c:\\users\\vl\\appdata\\roaming\\python\\python311\\site-packages (from sentence-transformers) (2.1.1)\n",
      "Collecting torchvision (from sentence-transformers)\n",
      "  Obtaining dependency information for torchvision from https://files.pythonhosted.org/packages/13/24/23cdf7e7dc33e5c01588c315f8424d31afa9edb05a80168f3d44f7178ff7/torchvision-0.16.1-cp311-cp311-win_amd64.whl.metadata\n",
      "  Downloading torchvision-0.16.1-cp311-cp311-win_amd64.whl.metadata (6.6 kB)\n",
      "Requirement already satisfied: numpy in c:\\users\\vl\\appdata\\roaming\\python\\python311\\site-packages (from sentence-transformers) (1.26.1)\n",
      "Requirement already satisfied: scikit-learn in c:\\soft\\anaconda3\\lib\\site-packages (from sentence-transformers) (1.3.0)\n",
      "Requirement already satisfied: scipy in c:\\soft\\anaconda3\\lib\\site-packages (from sentence-transformers) (1.11.1)\n",
      "Requirement already satisfied: nltk in c:\\soft\\anaconda3\\lib\\site-packages (from sentence-transformers) (3.8.1)\n",
      "Requirement already satisfied: sentencepiece in c:\\users\\vl\\appdata\\roaming\\python\\python311\\site-packages (from sentence-transformers) (0.1.99)\n",
      "Requirement already satisfied: huggingface-hub>=0.4.0 in c:\\soft\\anaconda3\\lib\\site-packages (from sentence-transformers) (0.15.1)\n",
      "Requirement already satisfied: filelock in c:\\soft\\anaconda3\\lib\\site-packages (from huggingface-hub>=0.4.0->sentence-transformers) (3.9.0)\n",
      "Requirement already satisfied: fsspec in c:\\users\\vl\\appdata\\roaming\\python\\python311\\site-packages (from huggingface-hub>=0.4.0->sentence-transformers) (2023.10.0)\n",
      "Requirement already satisfied: requests in c:\\soft\\anaconda3\\lib\\site-packages (from huggingface-hub>=0.4.0->sentence-transformers) (2.31.0)\n",
      "Requirement already satisfied: pyyaml>=5.1 in c:\\soft\\anaconda3\\lib\\site-packages (from huggingface-hub>=0.4.0->sentence-transformers) (6.0)\n",
      "Requirement already satisfied: typing-extensions>=3.7.4.3 in c:\\soft\\anaconda3\\lib\\site-packages (from huggingface-hub>=0.4.0->sentence-transformers) (4.7.1)\n",
      "Requirement already satisfied: packaging>=20.9 in c:\\soft\\anaconda3\\lib\\site-packages (from huggingface-hub>=0.4.0->sentence-transformers) (23.1)\n",
      "Requirement already satisfied: sympy in c:\\soft\\anaconda3\\lib\\site-packages (from torch>=1.6.0->sentence-transformers) (1.11.1)\n",
      "Requirement already satisfied: networkx in c:\\soft\\anaconda3\\lib\\site-packages (from torch>=1.6.0->sentence-transformers) (3.1)\n",
      "Requirement already satisfied: jinja2 in c:\\soft\\anaconda3\\lib\\site-packages (from torch>=1.6.0->sentence-transformers) (3.1.2)\n",
      "Requirement already satisfied: colorama in c:\\soft\\anaconda3\\lib\\site-packages (from tqdm->sentence-transformers) (0.4.6)\n",
      "Requirement already satisfied: regex!=2019.12.17 in c:\\soft\\anaconda3\\lib\\site-packages (from transformers<5.0.0,>=4.6.0->sentence-transformers) (2022.7.9)\n",
      "Requirement already satisfied: tokenizers!=0.11.3,<0.14,>=0.11.1 in c:\\soft\\anaconda3\\lib\\site-packages (from transformers<5.0.0,>=4.6.0->sentence-transformers) (0.13.2)\n",
      "Requirement already satisfied: safetensors>=0.3.1 in c:\\soft\\anaconda3\\lib\\site-packages (from transformers<5.0.0,>=4.6.0->sentence-transformers) (0.3.2)\n",
      "Requirement already satisfied: click in c:\\soft\\anaconda3\\lib\\site-packages (from nltk->sentence-transformers) (8.0.4)\n",
      "Requirement already satisfied: joblib in c:\\soft\\anaconda3\\lib\\site-packages (from nltk->sentence-transformers) (1.2.0)\n",
      "Requirement already satisfied: threadpoolctl>=2.0.0 in c:\\soft\\anaconda3\\lib\\site-packages (from scikit-learn->sentence-transformers) (2.2.0)\n",
      "Requirement already satisfied: pillow!=8.3.*,>=5.3.0 in c:\\soft\\anaconda3\\lib\\site-packages (from torchvision->sentence-transformers) (9.4.0)\n",
      "Requirement already satisfied: MarkupSafe>=2.0 in c:\\soft\\anaconda3\\lib\\site-packages (from jinja2->torch>=1.6.0->sentence-transformers) (2.1.1)\n",
      "Requirement already satisfied: charset-normalizer<4,>=2 in c:\\soft\\anaconda3\\lib\\site-packages (from requests->huggingface-hub>=0.4.0->sentence-transformers) (2.0.4)\n",
      "Requirement already satisfied: idna<4,>=2.5 in c:\\soft\\anaconda3\\lib\\site-packages (from requests->huggingface-hub>=0.4.0->sentence-transformers) (3.4)\n",
      "Requirement already satisfied: urllib3<3,>=1.21.1 in c:\\users\\vl\\appdata\\roaming\\python\\python311\\site-packages (from requests->huggingface-hub>=0.4.0->sentence-transformers) (1.26.6)\n",
      "Requirement already satisfied: certifi>=2017.4.17 in c:\\soft\\anaconda3\\lib\\site-packages (from requests->huggingface-hub>=0.4.0->sentence-transformers) (2023.7.22)\n",
      "Requirement already satisfied: mpmath>=0.19 in c:\\soft\\anaconda3\\lib\\site-packages (from sympy->torch>=1.6.0->sentence-transformers) (1.3.0)\n",
      "Downloading torchvision-0.16.1-cp311-cp311-win_amd64.whl (1.1 MB)\n",
      "   ---------------------------------------- 0.0/1.1 MB ? eta -:--:--\n",
      "   ----------- ---------------------------- 0.3/1.1 MB 10.6 MB/s eta 0:00:01\n",
      "   ---------------------- ----------------- 0.6/1.1 MB 8.1 MB/s eta 0:00:01\n",
      "   ---------------------------------------  1.1/1.1 MB 9.0 MB/s eta 0:00:01\n",
      "   ---------------------------------------- 1.1/1.1 MB 8.0 MB/s eta 0:00:00\n",
      "Building wheels for collected packages: sentence-transformers\n",
      "  Building wheel for sentence-transformers (setup.py): started\n",
      "  Building wheel for sentence-transformers (setup.py): finished with status 'done'\n",
      "  Created wheel for sentence-transformers: filename=sentence_transformers-2.2.2-py3-none-any.whl size=125960 sha256=1eb4498c93e56eec42be21d9be271494cbaf81fcf8b5a1be44d51224acc67e5b\n",
      "  Stored in directory: c:\\users\\vl\\appdata\\local\\pip\\cache\\wheels\\ff\\27\\bf\\ffba8b318b02d7f691a57084ee154e26ed24d012b0c7805881\n",
      "Successfully built sentence-transformers\n",
      "Installing collected packages: torchvision, sentence-transformers\n",
      "Successfully installed sentence-transformers-2.2.2 torchvision-0.16.1\n",
      "Note: you may need to restart the kernel to use updated packages.\n"
     ]
    }
   ],
   "source": [
    "pip install -U sentence-transformers"
   ]
  },
  {
   "attachments": {},
   "cell_type": "markdown",
   "metadata": {},
   "source": [
    "from sentence_transformers import SentenceTransformer\n",
    "sentences = [\"This is an example sentence\", \"Each sentence is converted\"]\n",
    "\n",
    "model = SentenceTransformer('all-MiniLM-L6-v2')\n",
    "embeddings = model.encode(sentences)\n",
    "print(embeddings)"
   ]
  },
  {
   "attachments": {},
   "cell_type": "markdown",
   "metadata": {},
   "source": [
    "Open the PDF file with the appropriate encoding ('utf-8') when reading it.\n",
    "Load the PDF text into the pdf_text variable.\n",
    "Split the pdf_text into chunks using the split() method.\n",
    "Iterate through the chunks and print the embeddings for each chunk.\n",
    "Make sure you have the RAGS library installed (pip install rags) and that you have the correct path to your PDF file. Additionally, note that this example assumes that RAGS provides a function called load_model() for loading the word embedding model. If there are any changes in the library's API, you may need to adjust the code accordingly."
   ]
  },
  {
   "attachments": {},
   "cell_type": "markdown",
   "metadata": {},
   "source": [
    "len(docs)"
   ]
  },
  {
   "cell_type": "code",
   "execution_count": 7,
   "metadata": {},
   "outputs": [
    {
     "name": "stdout",
     "output_type": "stream",
     "text": [
      "Defaulting to user installation because normal site-packages is not writeable\n",
      "Requirement already satisfied: pinecone-client in c:\\users\\vl\\appdata\\roaming\\python\\python311\\site-packages (2.2.1)\n",
      "Requirement already satisfied: requests>=2.19.0 in c:\\soft\\anaconda3\\lib\\site-packages (from pinecone-client) (2.31.0)\n",
      "Requirement already satisfied: pyyaml>=5.4 in c:\\soft\\anaconda3\\lib\\site-packages (from pinecone-client) (6.0)\n",
      "Requirement already satisfied: loguru>=0.5.0 in c:\\users\\vl\\appdata\\roaming\\python\\python311\\site-packages (from pinecone-client) (0.7.2)\n",
      "Requirement already satisfied: typing-extensions>=3.7.4 in c:\\soft\\anaconda3\\lib\\site-packages (from pinecone-client) (4.7.1)\n",
      "Requirement already satisfied: dnspython>=2.0.0 in c:\\users\\vl\\appdata\\roaming\\python\\python311\\site-packages (from pinecone-client) (2.4.2)\n",
      "Requirement already satisfied: python-dateutil>=2.5.3 in c:\\soft\\anaconda3\\lib\\site-packages (from pinecone-client) (2.8.2)\n",
      "Requirement already satisfied: urllib3>=1.21.1 in c:\\users\\vl\\appdata\\roaming\\python\\python311\\site-packages (from pinecone-client) (1.26.6)\n",
      "Requirement already satisfied: tqdm>=4.64.1 in c:\\soft\\anaconda3\\lib\\site-packages (from pinecone-client) (4.65.0)\n",
      "Requirement already satisfied: numpy in c:\\users\\vl\\appdata\\roaming\\python\\python311\\site-packages (from pinecone-client) (1.26.1)\n",
      "Requirement already satisfied: colorama>=0.3.4 in c:\\soft\\anaconda3\\lib\\site-packages (from loguru>=0.5.0->pinecone-client) (0.4.6)\n",
      "Requirement already satisfied: win32-setctime>=1.0.0 in c:\\users\\vl\\appdata\\roaming\\python\\python311\\site-packages (from loguru>=0.5.0->pinecone-client) (1.1.0)\n",
      "Requirement already satisfied: six>=1.5 in c:\\soft\\anaconda3\\lib\\site-packages (from python-dateutil>=2.5.3->pinecone-client) (1.16.0)\n",
      "Requirement already satisfied: charset-normalizer<4,>=2 in c:\\soft\\anaconda3\\lib\\site-packages (from requests>=2.19.0->pinecone-client) (2.0.4)\n",
      "Requirement already satisfied: idna<4,>=2.5 in c:\\soft\\anaconda3\\lib\\site-packages (from requests>=2.19.0->pinecone-client) (3.4)\n",
      "Requirement already satisfied: certifi>=2017.4.17 in c:\\soft\\anaconda3\\lib\\site-packages (from requests>=2.19.0->pinecone-client) (2023.7.22)\n",
      "Note: you may need to restart the kernel to use updated packages.\n"
     ]
    }
   ],
   "source": [
    "pip install pinecone-client"
   ]
  },
  {
   "cell_type": "code",
   "execution_count": 1,
   "metadata": {},
   "outputs": [
    {
     "name": "stderr",
     "output_type": "stream",
     "text": [
      "C:\\Users\\vl\\AppData\\Roaming\\Python\\Python311\\site-packages\\pinecone\\index.py:4: TqdmExperimentalWarning: Using `tqdm.autonotebook.tqdm` in notebook mode. Use `tqdm.tqdm` instead to force console mode (e.g. in jupyter console)\n",
      "  from tqdm.autonotebook import tqdm\n"
     ]
    }
   ],
   "source": [
    "# Initiate the pinecone client\n",
    "import os\n",
    "import pinecone\n",
    "\n",
    "pinecone_api = os.getenv(\"PINECONE_API\")\n",
    "pinecone_env = os.getenv(\"PINECONE_ENV\")\n",
    "\n",
    "pinecone.init(\n",
    "    api_key = pinecone_api,\n",
    "    environment = pinecone_env\n",
    ")"
   ]
  },
  {
   "cell_type": "code",
   "execution_count": 2,
   "metadata": {},
   "outputs": [],
   "source": [
    "index_name = \"pdfsearchdx\"\n",
    "pinecone.create_index(index_name, dimension=384, metric=\"euclidean\")\n",
    "pinecone.describe_index(index_name)\n",
    "index = pinecone.Index(index_name)"
   ]
  },
  {
   "attachments": {},
   "cell_type": "markdown",
   "metadata": {},
   "source": [
    "jupyter notebook --NotebookApp.iopub_data_rate_limit=1.0e10"
   ]
  },
  {
   "cell_type": "code",
   "execution_count": 3,
   "metadata": {},
   "outputs": [
    {
     "name": "stdout",
     "output_type": "stream",
     "text": [
      "53\n",
      "53\n"
     ]
    },
    {
     "data": {
      "text/plain": [
       "{'upserted_count': 53}"
      ]
     },
     "execution_count": 3,
     "metadata": {},
     "output_type": "execute_result"
    }
   ],
   "source": [
    "import fitz  # PyMuPDF\n",
    "from sentence_transformers import SentenceTransformer\n",
    "import pinecone\n",
    "import numpy as np\n",
    "\n",
    "index_name = \"pdfsearchdx\"\n",
    "index = pinecone.Index(index_name)\n",
    "\n",
    "path_to_pdf = 'YL-CV-masked.pdf' \n",
    "\n",
    "# Extract text from the PDF using PyMuPDF\n",
    "def extract_text_from_pdf(pdf_path):\n",
    "    doc = fitz.open(pdf_path)\n",
    "    text = \"\"\n",
    "    for page_num in range(doc.page_count):\n",
    "        page = doc[page_num]\n",
    "        text += page.get_text()\n",
    "    doc.close()\n",
    "    return text\n",
    "\n",
    "def embed(data):#https://huggingface.co/sentence-transformers\n",
    "    model = SentenceTransformer('all-MiniLM-L6-v2')#https://huggingface.co/sentence-transformers/all-MiniLM-L6-v2\n",
    "    embeddings = model.encode(data).tolist()\n",
    "    return embeddings\n",
    "\n",
    "def remove_non_ascii(s):\n",
    "    return \"\".join(c for c in s if ord(c)<128)\n",
    "\n",
    "# Load the PDF text\n",
    "pdf_text = extract_text_from_pdf(path_to_pdf)\n",
    "#print(pdf_text)\n",
    "\n",
    "# Split the text into chunks\n",
    "chunks = pdf_text.split(\".\")\n",
    "\n",
    "# Process each chunk and print the embeddings\n",
    "sentences = []\n",
    "#metadatas = []\n",
    "for chunk in chunks:\n",
    "    sentences.append(remove_non_ascii(chunk))\n",
    "    #metadatas.append(remove_non_ascii(chunk))\n",
    "    \n",
    "embeddings = embed(sentences)\n",
    "print(len(sentences))\n",
    "print(len(embeddings))\n",
    "#print(len(metadatas))\n",
    "#print(sentences)\n",
    "#print(embeddings)\n",
    "#print(metadatas)\n",
    "index.upsert(vectors=zip(sentences, embeddings))\n",
    "    "
   ]
  },
  {
   "cell_type": "code",
   "execution_count": 4,
   "metadata": {},
   "outputs": [
    {
     "name": "stdout",
     "output_type": "stream",
     "text": [
      "{'matches': [{'id': 'com \\nIdeas Blog: \\nhttps://edisonideas',\n",
      "              'score': 0.923787475,\n",
      "              'values': []},\n",
      "             {'id': 'wordpress', 'score': 1.01926112, 'values': []}],\n",
      " 'namespace': ''}\n"
     ]
    }
   ],
   "source": [
    "from sentence_transformers import SentenceTransformer\n",
    "import os\n",
    "\n",
    "os.environ[\"HUGGINGFACEHUB_API_TOKEN\"] = str(os.getenv(\"HUGGINGFACEHUB_API_TOKEN\"))\n",
    "\n",
    "query_questions = [\"What is my blog?\",]\n",
    "\n",
    "model = SentenceTransformer('all-MiniLM-L6-v2')\n",
    "query_vectors = [model.encode(str(question)).tolist() for question in query_questions]\n",
    "\n",
    "query_results = index.query(vector=query_vectors, top_k=2)\n",
    "print(query_results)"
   ]
  },
  {
   "cell_type": "code",
   "execution_count": null,
   "metadata": {},
   "outputs": [],
   "source": []
  }
 ],
 "metadata": {
  "kernelspec": {
   "display_name": "Python 3 (ipykernel)",
   "language": "python",
   "name": "python3"
  },
  "language_info": {
   "codemirror_mode": {
    "name": "ipython",
    "version": 3
   },
   "file_extension": ".py",
   "mimetype": "text/x-python",
   "name": "python",
   "nbconvert_exporter": "python",
   "pygments_lexer": "ipython3",
   "version": "3.11.5"
  }
 },
 "nbformat": 4,
 "nbformat_minor": 2
}
